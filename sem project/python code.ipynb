{
 "cells": [
  {
   "cell_type": "code",
   "execution_count": 1,
   "id": "09cba6eb",
   "metadata": {},
   "outputs": [
    {
     "name": "stdout",
     "output_type": "stream",
     "text": [
      "there are 432000 in 5 days\n"
     ]
    }
   ],
   "source": [
    "\n",
    "        days=int(input(\"number of days:\"))\n",
    "        seconds=days*24*60*60\n",
    "print(f\"there are {seconds} in {days} days\" )\n"
   ]
  },
  {
   "cell_type": "code",
   "execution_count": 2,
   "id": "7095b0d5",
   "metadata": {},
   "outputs": [
    {
     "name": "stdout",
     "output_type": "stream",
     "text": [
      "when the radius is 3 , the volume is 113.09733552923254\n"
     ]
    }
   ],
   "source": [
    "import math\n",
    "radius=int(input(\"the radius is:\"))\n",
    "volume=((4/3)*math.pi*radius**3)\n",
    "print(f\"when the radius is {radius} , the volume is {volume}\")"
   ]
  },
  {
   "cell_type": "code",
   "execution_count": 3,
   "id": "75d8ce08",
   "metadata": {},
   "outputs": [
    {
     "name": "stdout",
     "output_type": "stream",
     "text": [
      "when the length is 5 , the area is 25 , and the perimeter of the square is 20\n"
     ]
    }
   ],
   "source": [
    "l=int(input(\"the length is:\"))\n",
    "area=l**2\n",
    "perimeter=4*l\n",
    "print(f\"when the length is {l} , the area is {area} , and the perimeter of the square is {perimeter}\")\n"
   ]
  },
  {
   "cell_type": "code",
   "execution_count": 4,
   "id": "6257f7df",
   "metadata": {},
   "outputs": [
    {
     "name": "stdout",
     "output_type": "stream",
     "text": [
      "the character is: k\n",
      "the character is lowercase\n"
     ]
    }
   ],
   "source": [
    "character=str(input(\"the character is:\"))\n",
    "def check_case(char):\n",
    "    if char.isupper():\n",
    "        return \"the character is uppercase\"\n",
    "    elif char.islower():\n",
    "        return \"the character is lowercase\"\n",
    "    else:\n",
    "        return \"the character is not a letter\"\n",
    "if len(character)==1:\n",
    "    result=check_case(character)\n",
    "    print(f\"the character is: {character}\")\n",
    "    print(result)\n",
    "\n",
    "else:\n",
    "    print(\"enter one character only\")\n"
   ]
  },
  {
   "cell_type": "code",
   "execution_count": 5,
   "id": "f7281eba",
   "metadata": {},
   "outputs": [
    {
     "name": "stdout",
     "output_type": "stream",
     "text": [
      "1.0416666666666665\n"
     ]
    }
   ],
   "source": [
    "x=0\n",
    "y=20\n",
    "while y>=6:\n",
    "    y-=4\n",
    "    x+=2/y\n",
    "\n",
    "print(x)"
   ]
  },
  {
   "cell_type": "code",
   "execution_count": 6,
   "id": "57a0ad4b",
   "metadata": {},
   "outputs": [
    {
     "name": "stdout",
     "output_type": "stream",
     "text": [
      "the numbers are:[10.0, 20.0, 25.0, 45.0, 65.0]\n",
      "the total is:165.0\n",
      "the average of numbers is: 33.0\n"
     ]
    }
   ],
   "source": [
    "import math\n",
    "numbers=[]\n",
    "for i in range(5):\n",
    "    number=float(input(f\"add numbers{i+1}:\"))\n",
    "    numbers.append(number)\n",
    "    total=sum(numbers)\n",
    "    average=sum(numbers)/5 \n",
    "print(f\"the numbers are:{numbers}\")\n",
    "print(f\"the total is:{total}\")\n",
    "print(f\"the average of numbers is: {average}\")  "
   ]
  }
 ],
 "metadata": {
  "kernelspec": {
   "display_name": "base",
   "language": "python",
   "name": "python3"
  },
  "language_info": {
   "codemirror_mode": {
    "name": "ipython",
    "version": 3
   },
   "file_extension": ".py",
   "mimetype": "text/x-python",
   "name": "python",
   "nbconvert_exporter": "python",
   "pygments_lexer": "ipython3",
   "version": "3.11.7"
  }
 },
 "nbformat": 4,
 "nbformat_minor": 5
}
